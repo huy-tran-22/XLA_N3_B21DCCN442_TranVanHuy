{
 "cells": [
  {
   "cell_type": "code",
   "execution_count": null,
   "metadata": {},
   "outputs": [
    {
     "ename": "ImportError",
     "evalue": "cannot import name 'BatchNormalization' from 'tensorflow.python.keras.layers' (e:\\Programs\\Anaconda\\Lib\\site-packages\\tensorflow\\python\\keras\\layers\\__init__.py)",
     "output_type": "error",
     "traceback": [
      "\u001b[1;31m---------------------------------------------------------------------------\u001b[0m",
      "\u001b[1;31mImportError\u001b[0m                               Traceback (most recent call last)",
      "Cell \u001b[1;32mIn[6], line 5\u001b[0m\n\u001b[0;32m      3\u001b[0m \u001b[38;5;28;01mimport\u001b[39;00m \u001b[38;5;21;01mnumpy\u001b[39;00m \u001b[38;5;28;01mas\u001b[39;00m \u001b[38;5;21;01mnp\u001b[39;00m\n\u001b[0;32m      4\u001b[0m \u001b[38;5;28;01mimport\u001b[39;00m \u001b[38;5;21;01mcv2\u001b[39;00m\n\u001b[1;32m----> 5\u001b[0m \u001b[38;5;28;01mfrom\u001b[39;00m \u001b[38;5;21;01mmodel\u001b[39;00m \u001b[38;5;28;01mimport\u001b[39;00m Deeplabv3  \u001b[38;5;66;03m# Import mô hình từ file model.py\u001b[39;00m\n\u001b[0;32m      7\u001b[0m \u001b[38;5;66;03m# Khởi tạo mô hình DeepLab v3+\u001b[39;00m\n\u001b[0;32m      8\u001b[0m deeplab_model \u001b[38;5;241m=\u001b[39m Deeplabv3()\n",
      "File \u001b[1;32md:\\Learn DL\\Xử lý ảnh\\BTL\\model.py:32\u001b[0m\n\u001b[0;32m     30\u001b[0m \u001b[38;5;28;01mfrom\u001b[39;00m \u001b[38;5;21;01mtensorflow\u001b[39;00m\u001b[38;5;21;01m.\u001b[39;00m\u001b[38;5;21;01mpython\u001b[39;00m\u001b[38;5;21;01m.\u001b[39;00m\u001b[38;5;21;01mkeras\u001b[39;00m\u001b[38;5;21;01m.\u001b[39;00m\u001b[38;5;21;01mlayers\u001b[39;00m \u001b[38;5;28;01mimport\u001b[39;00m Add\n\u001b[0;32m     31\u001b[0m \u001b[38;5;28;01mfrom\u001b[39;00m \u001b[38;5;21;01mtensorflow\u001b[39;00m\u001b[38;5;21;01m.\u001b[39;00m\u001b[38;5;21;01mpython\u001b[39;00m\u001b[38;5;21;01m.\u001b[39;00m\u001b[38;5;21;01mkeras\u001b[39;00m\u001b[38;5;21;01m.\u001b[39;00m\u001b[38;5;21;01mlayers\u001b[39;00m \u001b[38;5;28;01mimport\u001b[39;00m Dropout\n\u001b[1;32m---> 32\u001b[0m \u001b[38;5;28;01mfrom\u001b[39;00m \u001b[38;5;21;01mtensorflow\u001b[39;00m\u001b[38;5;21;01m.\u001b[39;00m\u001b[38;5;21;01mpython\u001b[39;00m\u001b[38;5;21;01m.\u001b[39;00m\u001b[38;5;21;01mkeras\u001b[39;00m\u001b[38;5;21;01m.\u001b[39;00m\u001b[38;5;21;01mlayers\u001b[39;00m \u001b[38;5;28;01mimport\u001b[39;00m BatchNormalization\n\u001b[0;32m     33\u001b[0m \u001b[38;5;28;01mfrom\u001b[39;00m \u001b[38;5;21;01mtensorflow\u001b[39;00m\u001b[38;5;21;01m.\u001b[39;00m\u001b[38;5;21;01mpython\u001b[39;00m\u001b[38;5;21;01m.\u001b[39;00m\u001b[38;5;21;01mkeras\u001b[39;00m\u001b[38;5;21;01m.\u001b[39;00m\u001b[38;5;21;01mlayers\u001b[39;00m \u001b[38;5;28;01mimport\u001b[39;00m Conv2D\n\u001b[0;32m     34\u001b[0m \u001b[38;5;28;01mfrom\u001b[39;00m \u001b[38;5;21;01mtensorflow\u001b[39;00m\u001b[38;5;21;01m.\u001b[39;00m\u001b[38;5;21;01mpython\u001b[39;00m\u001b[38;5;21;01m.\u001b[39;00m\u001b[38;5;21;01mkeras\u001b[39;00m\u001b[38;5;21;01m.\u001b[39;00m\u001b[38;5;21;01mlayers\u001b[39;00m \u001b[38;5;28;01mimport\u001b[39;00m DepthwiseConv2D\n",
      "\u001b[1;31mImportError\u001b[0m: cannot import name 'BatchNormalization' from 'tensorflow.python.keras.layers' (e:\\Programs\\Anaconda\\Lib\\site-packages\\tensorflow\\python\\keras\\layers\\__init__.py)"
     ]
    }
   ],
   "source": [
    "from matplotlib import pyplot as pylab\n",
    "import cv2  # used for resize\n",
    "import numpy as np\n",
    "from model import Deeplabv3\n",
    "\n",
    "# Load Deeplab model\n",
    "deeplab_model = Deeplabv3()\n",
    "\n",
    "# Input and output paths\n",
    "pathIn = 'input'  # Path for the input image\n",
    "pathOut = 'output'  # Output path for the segmented image\n",
    "\n",
    "# Read the input image\n",
    "img = pylab.imread(pathIn + r\"D:\\\\Learn DL\\\\Xử lý ảnh\\\\BTL\\\\Sandipan_Dey_2018_Sample_Images\\\\images\\\\cycle.jpg\")\n",
    "w, h, _ = img.shape\n",
    "ratio = 512. / np.max([w, h])\n",
    "\n",
    "# Resize and preprocess the image\n",
    "resized = cv2.resize(img, (int(ratio * h), int(ratio * w)))\n",
    "resized = resized / 127.5 - 1.\n",
    "pad_x = int(512 - resized.shape[0])\n",
    "resized2 = np.pad(resized, ((0, pad_x), (0, 0), (0, 0)), mode='constant')\n",
    "\n",
    "# Perform segmentation\n",
    "res = deeplab_model.predict(np.expand_dims(resized2, 0))\n",
    "labels = np.argmax(res.squeeze(), -1)\n",
    "\n",
    "# Visualize and save the result\n",
    "pylab.figure(figsize=(20, 20))\n",
    "pylab.imshow(labels[:-pad_x], cmap='inferno')\n",
    "pylab.axis('off')\n",
    "pylab.colorbar()\n",
    "pylab.show()\n",
    "pylab.savefig(pathOut + \"\\\\segmented.jpg\", bbox_inches='tight', pad_inches=0)\n",
    "pylab.close()"
   ]
  }
 ],
 "metadata": {
  "kernelspec": {
   "display_name": "base",
   "language": "python",
   "name": "python3"
  },
  "language_info": {
   "codemirror_mode": {
    "name": "ipython",
    "version": 3
   },
   "file_extension": ".py",
   "mimetype": "text/x-python",
   "name": "python",
   "nbconvert_exporter": "python",
   "pygments_lexer": "ipython3",
   "version": "3.12.4"
  }
 },
 "nbformat": 4,
 "nbformat_minor": 2
}
